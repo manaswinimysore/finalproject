{
 "cells": [
  {
   "cell_type": "code",
   "execution_count": 3,
   "metadata": {},
   "outputs": [
    {
     "name": "stderr",
     "output_type": "stream",
     "text": [
      "/Users/manaswini/anaconda3/lib/python3.6/site-packages/sklearn/cross_validation.py:41: DeprecationWarning: This module was deprecated in version 0.18 in favor of the model_selection module into which all the refactored classes and functions are moved. Also note that the interface of the new CV iterators are different from that of this module. This module will be removed in 0.20.\n",
      "  \"This module will be removed in 0.20.\", DeprecationWarning)\n",
      "/Users/manaswini/anaconda3/lib/python3.6/site-packages/sklearn/grid_search.py:42: DeprecationWarning: This module was deprecated in version 0.18 in favor of the model_selection module into which all the refactored classes and functions are moved. This module will be removed in 0.20.\n",
      "  DeprecationWarning)\n"
     ]
    }
   ],
   "source": [
    "import numpy as np\n",
    "from urllib.request import urlopen\n",
    "from scipy import stats\n",
    "\n",
    "import urllib\n",
    "import matplotlib.pyplot as plt # Visuals\n",
    "import seaborn as sns \n",
    "import sklearn as skl\n",
    "import pandas as pd\n",
    "from pandas.plotting import scatter_matrix\n",
    "from sklearn.grid_search import GridSearchCV\n",
    "from sklearn import preprocessing\n",
    "from sklearn.cross_validation import train_test_split\n",
    "from sklearn.linear_model import LogisticRegression\n",
    "from sklearn.linear_model import LinearRegression\n",
    "from sklearn.neighbors import KNeighborsClassifier # Kth Nearest Neighbor\n",
    "from sklearn.tree import DecisionTreeClassifier # Decision Trees\n",
    "from sklearn.tree import export_graphviz # Extract Decision Tree visual\n",
    "from sklearn.tree import tree \n",
    "from sklearn.ensemble import RandomForestClassifier # Random Forest\n",
    "from sklearn import metrics\n",
    "from sklearn.metrics import roc_curve # ROC Curves\n",
    "from sklearn.metrics import auc # AUC \n",
    "from sklearn.model_selection import KFold, cross_val_score #cross validation \n",
    "from sklearn import cross_validation  #cross validation \n",
    "from urllib.request import urlopen # Get data from UCI Machine Learning Repository\n",
    "import plotly.graph_objs as go\n",
    "import plotly.plotly as py\n",
    "def normalization(disease):\n",
    "    dfnorm=disease.copy()\n",
    "    for i in disease.columns:\n",
    "        maxv=disease[i].max();\n",
    "        minv=disease[i].min();\n",
    "        dfnorm[i]=(disease[i]-np.mean(disease[i]))/(maxv-minv);\n",
    "    return dfnorm"
   ]
  },
  {
   "cell_type": "code",
   "execution_count": 4,
   "metadata": {
    "collapsed": true
   },
   "outputs": [],
   "source": [
    "dataset = pd.read_csv('household_power_consumption.txt', sep=';', header=0, low_memory=False, infer_datetime_format=True, parse_dates={'datetime':[0,1]}, index_col=['datetime'])"
   ]
  },
  {
   "cell_type": "code",
   "execution_count": 5,
   "metadata": {
    "collapsed": true
   },
   "outputs": [],
   "source": [
    "'''starting of preprocessing process'''\n",
    "dataset.replace('?',np.nan,inplace=True)\n",
    "dataset=dataset.astype('float32')"
   ]
  },
  {
   "cell_type": "code",
   "execution_count": 6,
   "metadata": {
    "collapsed": true
   },
   "outputs": [],
   "source": [
    "'''filling these null values with previous day data'''\n",
    "def fill_missing(values):\n",
    "    one_day = 60 * 24\n",
    "    for row in range(values.shape[0]):\n",
    "        for col in range(values.shape[1]):\n",
    "            if np.isnan(values[row, col]):\n",
    "                values[row, col] = values[row - one_day, col]\n"
   ]
  },
  {
   "cell_type": "code",
   "execution_count": 7,
   "metadata": {
    "collapsed": true
   },
   "outputs": [],
   "source": [
    "fill_missing(dataset.values);"
   ]
  },
  {
   "cell_type": "code",
   "execution_count": 8,
   "metadata": {},
   "outputs": [
    {
     "name": "stdout",
     "output_type": "stream",
     "text": [
      "[[   4.21600008    0.41800001  234.83999634 ...,    0.            1.           17.        ]\n",
      " [   5.36000013    0.43599999  233.63000488 ...,    0.            1.           16.        ]\n",
      " [   5.37400007    0.498       233.28999329 ...,    0.            2.           17.        ]\n",
      " ..., \n",
      " [   0.93800002    0.          239.82000732 ...,    0.            0.            0.        ]\n",
      " [   0.93400002    0.          239.69999695 ...,    0.            0.            0.        ]\n",
      " [   0.93199998    0.          239.55000305 ...,    0.            0.            0.        ]]\n"
     ]
    }
   ],
   "source": [
    "print(dataset.values)"
   ]
  },
  {
   "cell_type": "code",
   "execution_count": 9,
   "metadata": {
    "collapsed": true
   },
   "outputs": [],
   "source": [
    "values = dataset.values\n",
    "dataset['sub_metering_4'] = (values[:,0] * 1000 / 60) - (values[:,4] + values[:,5] + values[:,6])\n",
    "dataset.to_csv('household_power_consumption.csv')"
   ]
  },
  {
   "cell_type": "code",
   "execution_count": null,
   "metadata": {
    "collapsed": true
   },
   "outputs": [],
   "source": []
  },
  {
   "cell_type": "code",
   "execution_count": 10,
   "metadata": {},
   "outputs": [
    {
     "data": {
      "text/plain": [
       "<matplotlib.axes._subplots.AxesSubplot at 0x10d7f9550>"
      ]
     },
     "execution_count": 10,
     "metadata": {},
     "output_type": "execute_result"
    }
   ],
   "source": [
    "dataset.plot(kind='box',return_type='axes',color='green',sym='r*')\n",
    "    "
   ]
  },
  {
   "cell_type": "code",
   "execution_count": 11,
   "metadata": {},
   "outputs": [
    {
     "data": {
      "image/png": "[encoded data removed]",
      "text/plain": [
       "<matplotlib.figure.Figure at 0x10d7706a0>"
      ]
     },
     "metadata": {},
     "output_type": "display_data"
    }
   ],
   "source": [
    "plt.show()\n"
   ]
  },
  {
   "cell_type": "code",
   "execution_count": 12,
   "metadata": {},
   "outputs": [
    {
     "name": "stdout",
     "output_type": "stream",
     "text": [
      "Global_active_power       1.218000\n",
      "Global_reactive_power     0.146000\n",
      "Voltage                   3.879990\n",
      "Global_intensity          5.000000\n",
      "Sub_metering_1            0.000000\n",
      "Sub_metering_2            1.000000\n",
      "Sub_metering_3           17.000000\n",
      "sub_metering_4            6.566667\n",
      "dtype: float64\n"
     ]
    }
   ],
   "source": [
    "Q1 = dataset.quantile(0.25)\n",
    "Q3 = dataset.quantile(0.75)\n",
    "IQR = Q3 - Q1\n",
    "print(IQR)"
   ]
  },
  {
   "cell_type": "code",
   "execution_count": 13,
   "metadata": {},
   "outputs": [
    {
     "name": "stdout",
     "output_type": "stream",
     "text": [
      "(1901113, 8)\n",
      "(1601479, 8)\n"
     ]
    },
    {
     "data": {
      "image/png": "[encoded data removed]",
      "text/plain": [
       "<matplotlib.figure.Figure at 0x1a4d9d0cc0>"
      ]
     },
     "metadata": {},
     "output_type": "display_data"
    },
    {
     "name": "stdout",
     "output_type": "stream",
     "text": [
      "(1601479, 8)\n"
     ]
    }
   ],
   "source": [
    "z = np.abs(stats.zscore(dataset))\n",
    "dataset = dataset[(z < 3).all(axis=1)]\n",
    "print(dataset.shape)\n",
    "dataset = dataset[~((dataset < (Q1 - 1.5 * IQR)) |(dataset > (Q3 + 1.5 * IQR))).any(axis=1)]\n",
    "print(dataset.shape)\n",
    "dataset.plot(kind='box',return_type='axes',color='green',sym='r*')\n",
    "plt.show()\n",
    "print(dataset.shape)\n"
   ]
  },
  {
   "cell_type": "code",
   "execution_count": 14,
   "metadata": {},
   "outputs": [
    {
     "name": "stdout",
     "output_type": "stream",
     "text": [
      "<bound method NDFrame.head of                      Global_active_power  Global_reactive_power     Voltage  \\\n",
      "datetime                                                                      \n",
      "2006-12-16 18:40:00                2.264                  0.054  234.669998   \n",
      "2006-12-16 18:41:00                2.270                  0.054  235.270004   \n",
      "2006-12-16 18:42:00                2.258                  0.054  235.119995   \n",
      "2006-12-16 18:43:00                2.188                  0.068  235.800003   \n",
      "2006-12-16 20:55:00                1.832                  0.170  237.539993   \n",
      "2006-12-16 20:56:00                2.044                  0.102  237.440002   \n",
      "2006-12-16 21:02:00                1.692                  0.054  238.720001   \n",
      "2006-12-16 21:08:00                2.188                  0.060  237.740005   \n",
      "2006-12-16 21:13:00                1.766                  0.058  237.699997   \n",
      "2006-12-16 21:18:00                1.876                  0.074  238.630005   \n",
      "2006-12-16 21:27:00                1.848                  0.112  238.589996   \n",
      "2006-12-16 21:31:00                1.948                  0.000  238.410004   \n",
      "2006-12-16 21:35:00                1.872                  0.000  238.479996   \n",
      "2006-12-16 21:45:00                1.860                  0.066  239.690002   \n",
      "2006-12-16 21:50:00                1.696                  0.194  238.190002   \n",
      "2006-12-16 21:55:00                2.308                  0.184  237.330002   \n",
      "2006-12-16 22:01:00                1.786                  0.096  237.679993   \n",
      "2006-12-16 22:07:00                1.614                  0.056  237.309998   \n",
      "2006-12-16 22:12:00                2.180                  0.000  238.020004   \n",
      "2006-12-16 22:17:00                0.960                  0.054  238.679993   \n",
      "2006-12-16 22:22:00                0.780                  0.090  239.929993   \n",
      "2006-12-16 22:31:00                0.376                  0.100  241.639999   \n",
      "2006-12-16 22:36:00                0.384                  0.000  240.580002   \n",
      "2006-12-16 22:41:00                0.436                  0.000  241.059998   \n",
      "2006-12-16 22:47:00                0.284                  0.000  242.039993   \n",
      "2006-12-16 22:52:00                0.754                  0.086  241.270004   \n",
      "2006-12-16 22:58:00                0.674                  0.200  241.360001   \n",
      "2006-12-16 23:03:00                0.370                  0.100  241.580002   \n",
      "2006-12-16 23:09:00                0.852                  0.000  241.639999   \n",
      "2006-12-16 23:14:00                1.038                  0.000  241.169998   \n",
      "...                                  ...                    ...         ...   \n",
      "2010-11-26 20:33:00                0.978                  0.000  240.279999   \n",
      "2010-11-26 20:34:00                0.968                  0.000  237.570007   \n",
      "2010-11-26 20:35:00                0.960                  0.000  238.009995   \n",
      "2010-11-26 20:36:00                0.964                  0.000  238.070007   \n",
      "2010-11-26 20:37:00                0.980                  0.000  237.899994   \n",
      "2010-11-26 20:38:00                0.976                  0.096  236.970001   \n",
      "2010-11-26 20:39:00                0.984                  0.100  238.160004   \n",
      "2010-11-26 20:40:00                0.986                  0.102  238.919998   \n",
      "2010-11-26 20:41:00                0.990                  0.106  239.570007   \n",
      "2010-11-26 20:42:00                0.988                  0.106  239.600006   \n",
      "2010-11-26 20:43:00                0.988                  0.106  239.639999   \n",
      "2010-11-26 20:44:00                0.982                  0.102  238.690002   \n",
      "2010-11-26 20:45:00                0.972                  0.092  238.320007   \n",
      "2010-11-26 20:46:00                0.908                  0.000  238.529999   \n",
      "2010-11-26 20:47:00                0.910                  0.000  238.710007   \n",
      "2010-11-26 20:48:00                0.912                  0.000  239.250000   \n",
      "2010-11-26 20:49:00                0.948                  0.000  238.160004   \n",
      "2010-11-26 20:50:00                1.198                  0.128  238.110001   \n",
      "2010-11-26 20:51:00                1.024                  0.106  238.839996   \n",
      "2010-11-26 20:52:00                0.946                  0.000  239.050003   \n",
      "2010-11-26 20:53:00                0.944                  0.000  238.720001   \n",
      "2010-11-26 20:54:00                0.946                  0.000  239.309998   \n",
      "2010-11-26 20:55:00                0.946                  0.000  239.740005   \n",
      "2010-11-26 20:56:00                0.942                  0.000  239.410004   \n",
      "2010-11-26 20:57:00                0.946                  0.000  240.330002   \n",
      "2010-11-26 20:58:00                0.946                  0.000  240.429993   \n",
      "2010-11-26 20:59:00                0.944                  0.000  240.000000   \n",
      "2010-11-26 21:00:00                0.938                  0.000  239.820007   \n",
      "2010-11-26 21:01:00                0.934                  0.000  239.699997   \n",
      "2010-11-26 21:02:00                0.932                  0.000  239.550003   \n",
      "\n",
      "                     Global_intensity  Sub_metering_1  Sub_metering_2  \\\n",
      "datetime                                                                \n",
      "2006-12-16 18:40:00               9.6             0.0             1.0   \n",
      "2006-12-16 18:41:00               9.6             0.0             1.0   \n",
      "2006-12-16 18:42:00               9.6             0.0             1.0   \n",
      "2006-12-16 18:43:00               9.2             0.0             1.0   \n",
      "2006-12-16 20:55:00               8.4             0.0             0.0   \n",
      "2006-12-16 20:56:00               9.4             0.0             0.0   \n",
      "2006-12-16 21:02:00               7.8             0.0             0.0   \n",
      "2006-12-16 21:08:00              10.0             0.0             0.0   \n",
      "2006-12-16 21:13:00               8.2             0.0             0.0   \n",
      "2006-12-16 21:18:00               8.6             0.0             0.0   \n",
      "2006-12-16 21:27:00               8.4             0.0             0.0   \n",
      "2006-12-16 21:31:00               9.0             0.0             0.0   \n",
      "2006-12-16 21:35:00               8.6             0.0             0.0   \n",
      "2006-12-16 21:45:00               8.4             0.0             2.0   \n",
      "2006-12-16 21:50:00               7.6             0.0             2.0   \n",
      "2006-12-16 21:55:00              10.6             0.0             1.0   \n",
      "2006-12-16 22:01:00               8.2             0.0             1.0   \n",
      "2006-12-16 22:07:00               7.4             0.0             0.0   \n",
      "2006-12-16 22:12:00              10.0             0.0             0.0   \n",
      "2006-12-16 22:17:00               5.6             0.0             0.0   \n",
      "2006-12-16 22:22:00               4.6             0.0             0.0   \n",
      "2006-12-16 22:31:00               1.6             0.0             0.0   \n",
      "2006-12-16 22:36:00               2.4             0.0             0.0   \n",
      "2006-12-16 22:41:00               2.8             0.0             0.0   \n",
      "2006-12-16 22:47:00               1.2             0.0             0.0   \n",
      "2006-12-16 22:52:00               4.4             0.0             0.0   \n",
      "2006-12-16 22:58:00               4.0             0.0             0.0   \n",
      "2006-12-16 23:03:00               1.6             0.0             0.0   \n",
      "2006-12-16 23:09:00               5.2             0.0             0.0   \n",
      "2006-12-16 23:14:00               6.0             0.0             0.0   \n",
      "...                               ...             ...             ...   \n",
      "2010-11-26 20:33:00               4.0             0.0             1.0   \n",
      "2010-11-26 20:34:00               4.0             0.0             1.0   \n",
      "2010-11-26 20:35:00               4.0             0.0             1.0   \n",
      "2010-11-26 20:36:00               4.0             0.0             1.0   \n",
      "2010-11-26 20:37:00               4.2             0.0             1.0   \n",
      "2010-11-26 20:38:00               4.0             0.0             2.0   \n",
      "2010-11-26 20:39:00               4.2             0.0             1.0   \n",
      "2010-11-26 20:40:00               4.2             0.0             1.0   \n",
      "2010-11-26 20:41:00               4.2             0.0             1.0   \n",
      "2010-11-26 20:42:00               4.2             0.0             1.0   \n",
      "2010-11-26 20:43:00               4.2             0.0             1.0   \n",
      "2010-11-26 20:44:00               4.0             0.0             1.0   \n",
      "2010-11-26 20:45:00               4.0             0.0             2.0   \n",
      "2010-11-26 20:46:00               3.8             0.0             1.0   \n",
      "2010-11-26 20:47:00               3.8             0.0             1.0   \n",
      "2010-11-26 20:48:00               3.8             0.0             1.0   \n",
      "2010-11-26 20:49:00               4.0             0.0             1.0   \n",
      "2010-11-26 20:50:00               5.0             0.0             1.0   \n",
      "2010-11-26 20:51:00               4.2             0.0             1.0   \n",
      "2010-11-26 20:52:00               4.0             0.0             0.0   \n",
      "2010-11-26 20:53:00               4.0             0.0             0.0   \n",
      "2010-11-26 20:54:00               4.0             0.0             0.0   \n",
      "2010-11-26 20:55:00               4.0             0.0             0.0   \n",
      "2010-11-26 20:56:00               4.0             0.0             0.0   \n",
      "2010-11-26 20:57:00               4.0             0.0             0.0   \n",
      "2010-11-26 20:58:00               4.0             0.0             0.0   \n",
      "2010-11-26 20:59:00               4.0             0.0             0.0   \n",
      "2010-11-26 21:00:00               3.8             0.0             0.0   \n",
      "2010-11-26 21:01:00               3.8             0.0             0.0   \n",
      "2010-11-26 21:02:00               3.8             0.0             0.0   \n",
      "\n",
      "                     Sub_metering_3  sub_metering_4  \n",
      "datetime                                             \n",
      "2006-12-16 18:40:00            17.0       19.733334  \n",
      "2006-12-16 18:41:00            17.0       19.833332  \n",
      "2006-12-16 18:42:00            17.0       19.633335  \n",
      "2006-12-16 18:43:00            17.0       18.466667  \n",
      "2006-12-16 20:55:00            17.0       13.533333  \n",
      "2006-12-16 20:56:00            18.0       16.066666  \n",
      "2006-12-16 21:02:00            18.0       10.200001  \n",
      "2006-12-16 21:08:00            18.0       18.466667  \n",
      "2006-12-16 21:13:00            18.0       11.433332  \n",
      "2006-12-16 21:18:00            18.0       13.266666  \n",
      "2006-12-16 21:27:00            18.0       12.799999  \n",
      "2006-12-16 21:31:00            17.0       15.466667  \n",
      "2006-12-16 21:35:00            18.0       13.200001  \n",
      "2006-12-16 21:45:00            18.0       11.000000  \n",
      "2006-12-16 21:50:00            17.0        9.266666  \n",
      "2006-12-16 21:55:00            18.0       19.466667  \n",
      "2006-12-16 22:01:00            18.0       10.766666  \n",
      "2006-12-16 22:07:00            17.0        9.900000  \n",
      "2006-12-16 22:12:00            17.0       19.333332  \n",
      "2006-12-16 22:17:00             0.0       16.000000  \n",
      "2006-12-16 22:22:00             0.0       13.000000  \n",
      "2006-12-16 22:31:00             0.0        6.266667  \n",
      "2006-12-16 22:36:00             0.0        6.400000  \n",
      "2006-12-16 22:41:00             0.0        7.266667  \n",
      "2006-12-16 22:47:00             0.0        4.733333  \n",
      "2006-12-16 22:52:00             0.0       12.566667  \n",
      "2006-12-16 22:58:00             0.0       11.233334  \n",
      "2006-12-16 23:03:00             0.0        6.166667  \n",
      "2006-12-16 23:09:00             0.0       14.200000  \n",
      "2006-12-16 23:14:00             0.0       17.299999  \n",
      "...                             ...             ...  \n",
      "2010-11-26 20:33:00             0.0       15.299999  \n",
      "2010-11-26 20:34:00             0.0       15.133333  \n",
      "2010-11-26 20:35:00             0.0       15.000000  \n",
      "2010-11-26 20:36:00             0.0       15.066668  \n",
      "2010-11-26 20:37:00             0.0       15.333334  \n",
      "2010-11-26 20:38:00             0.0       14.266666  \n",
      "2010-11-26 20:39:00             0.0       15.400000  \n",
      "2010-11-26 20:40:00             0.0       15.433332  \n",
      "2010-11-26 20:41:00             0.0       15.500000  \n",
      "2010-11-26 20:42:00             0.0       15.466667  \n",
      "2010-11-26 20:43:00             0.0       15.466667  \n",
      "2010-11-26 20:44:00             0.0       15.366667  \n",
      "2010-11-26 20:45:00             0.0       14.200001  \n",
      "2010-11-26 20:46:00             0.0       14.133333  \n",
      "2010-11-26 20:47:00             0.0       14.166667  \n",
      "2010-11-26 20:48:00             0.0       14.200000  \n",
      "2010-11-26 20:49:00             0.0       14.800000  \n",
      "2010-11-26 20:50:00             0.0       18.966667  \n",
      "2010-11-26 20:51:00             0.0       16.066668  \n",
      "2010-11-26 20:52:00             0.0       15.766666  \n",
      "2010-11-26 20:53:00             0.0       15.733334  \n",
      "2010-11-26 20:54:00             0.0       15.766666  \n",
      "2010-11-26 20:55:00             0.0       15.766666  \n",
      "2010-11-26 20:56:00             0.0       15.700000  \n",
      "2010-11-26 20:57:00             0.0       15.766666  \n",
      "2010-11-26 20:58:00             0.0       15.766666  \n",
      "2010-11-26 20:59:00             0.0       15.733334  \n",
      "2010-11-26 21:00:00             0.0       15.633333  \n",
      "2010-11-26 21:01:00             0.0       15.566667  \n",
      "2010-11-26 21:02:00             0.0       15.533334  \n",
      "\n",
      "[1601479 rows x 8 columns]>\n"
     ]
    },
    {
     "name": "stderr",
     "output_type": "stream",
     "text": [
      "/Users/manaswini/anaconda3/lib/python3.6/site-packages/numpy/lib/function_base.py:4274: RuntimeWarning:\n",
      "\n",
      "Invalid value encountered in percentile\n",
      "\n"
     ]
    },
    {
     "data": {
      "text/plain": [
       "<matplotlib.axes._subplots.AxesSubplot at 0x1a3b51cc50>"
      ]
     },
     "execution_count": 14,
     "metadata": {},
     "output_type": "execute_result"
    }
   ],
   "source": [
    "print(dataset.head)\n",
    "dfnorm=normalization(dataset);\n",
    "dfnorm.plot(kind='box',return_type='axes',color='green',sym='r*')"
   ]
  },
  {
   "cell_type": "code",
   "execution_count": 15,
   "metadata": {},
   "outputs": [
    {
     "data": {
      "image/png": "[encoded data removed]",
      "text/plain": [
       "<matplotlib.figure.Figure at 0x1a4d9d0c18>"
      ]
     },
     "metadata": {},
     "output_type": "display_data"
    }
   ],
   "source": [
    "plt.show()"
   ]
  },
  {
   "cell_type": "code",
   "execution_count": 16,
   "metadata": {},
   "outputs": [
    {
     "name": "stdout",
     "output_type": "stream",
     "text": [
      "                       Global_active_power  Global_reactive_power   Voltage  \\\n",
      "Global_active_power               1.000000               0.134865 -0.214683   \n",
      "Global_reactive_power             0.134865               1.000000 -0.049150   \n",
      "Voltage                          -0.214683              -0.049150  1.000000   \n",
      "Global_intensity                  0.997811               0.169384 -0.229000   \n",
      "Sub_metering_1                         NaN                    NaN       NaN   \n",
      "Sub_metering_2                    0.042593               0.443000 -0.034256   \n",
      "Sub_metering_3                    0.919640               0.034934 -0.218789   \n",
      "sub_metering_4                    0.554120               0.192824 -0.069373   \n",
      "\n",
      "                       Global_intensity  Sub_metering_1  Sub_metering_2  \\\n",
      "Global_active_power            0.997811             NaN        0.042593   \n",
      "Global_reactive_power          0.169384             NaN        0.443000   \n",
      "Voltage                       -0.229000             NaN       -0.034256   \n",
      "Global_intensity               1.000000             NaN        0.058157   \n",
      "Sub_metering_1                      NaN             NaN             NaN   \n",
      "Sub_metering_2                 0.058157             NaN        1.000000   \n",
      "Sub_metering_3                 0.911431             NaN       -0.008383   \n",
      "sub_metering_4                 0.563535             NaN       -0.038612   \n",
      "\n",
      "                       Sub_metering_3  sub_metering_4  \n",
      "Global_active_power          0.919640        0.554120  \n",
      "Global_reactive_power        0.034934        0.192824  \n",
      "Voltage                     -0.218789       -0.069373  \n",
      "Global_intensity             0.911431        0.563535  \n",
      "Sub_metering_1                    NaN             NaN  \n",
      "Sub_metering_2              -0.008383       -0.038612  \n",
      "Sub_metering_3               1.000000        0.188924  \n",
      "sub_metering_4               0.188924        1.000000  \n"
     ]
    }
   ],
   "source": [
    "corr_mat=dataset.corr()\n",
    "print(corr_mat)"
   ]
  },
  {
   "cell_type": "code",
   "execution_count": null,
   "metadata": {},
   "outputs": [],
   "source": []
  },
  {
   "cell_type": "code",
   "execution_count": 202,
   "metadata": {},
   "outputs": [
    {
     "name": "stdout",
     "output_type": "stream",
     "text": [
      "(1113, 8)\n",
      "(322, 8)\n",
      "(1113, 7)\n",
      "(1113,)\n",
      "(322, 7)\n",
      "(322,)\n"
     ]
    }
   ],
   "source": [
    "\n",
    "\n",
    "data = pd.read_csv('household_power_consumption_days.csv', header=0, infer_datetime_format=True, parse_dates=['datetime'], index_col=['datetime'])\n",
    "train, test = data[1:-328], data[-328:-6]\n",
    "print(train.shape)\n",
    "print(test.shape)\n",
    "# restructure into windows of weekly data\n",
    "#train = np.array(np.split(train, len(train)/7))\n",
    "#test = np.array(np.split(test, len(test)/7))\n",
    "\n",
    "X_train = train.drop(['Global_active_power'],axis=1)\n",
    "Y_train = train['Global_active_power']\n",
    "print(X_train.shape)\n",
    "print(Y_train.shape)\n",
    "\n",
    "\n",
    "X_test = test.drop(['Global_active_power'],axis=1)\n",
    "Y_test = test['Global_active_power']\n",
    "\n",
    "\n",
    "print(X_test.shape)\n",
    "print(Y_test.shape)"
   ]
  },
  {
   "cell_type": "code",
   "execution_count": null,
   "metadata": {
    "collapsed": true
   },
   "outputs": [],
   "source": []
  },
  {
   "cell_type": "code",
   "execution_count": 97,
   "metadata": {
    "collapsed": true
   },
   "outputs": [],
   "source": [
    "def split_dataset(data):\n",
    "\t# split into standard weeks\n",
    "\ttrain, test = data[1:-328], data[-328:-6]\n",
    "\t# restructure into windows of weekly data\n",
    "\ttrain = np.array(np.split(train, len(train)/7))\n",
    "\ttest = np.array(np.split(test, len(test)/7))\n",
    "\treturn train, test"
   ]
  },
  {
   "cell_type": "code",
   "execution_count": 101,
   "metadata": {},
   "outputs": [
    {
     "name": "stdout",
     "output_type": "stream",
     "text": [
      "(1442, 8)\n",
      "(1442, 8)\n",
      "(1113, 8)\n",
      "(322, 8)\n"
     ]
    }
   ],
   "source": []
  },
  {
   "cell_type": "code",
   "execution_count": 82,
   "metadata": {},
   "outputs": [
    {
     "name": "stdout",
     "output_type": "stream",
     "text": [
      "(1442, 8)\n",
      "            Global_active_power  Global_reactive_power        Voltage  \\\n",
      "datetime                                                                \n",
      "2006-12-16          1209.175999                 34.922   93552.529953   \n",
      "2006-12-17          3390.460002                226.006  345725.320053   \n",
      "2006-12-18          2203.826000                161.792  347373.640137   \n",
      "2006-12-19          1666.194001                150.942  348479.009842   \n",
      "2006-12-20          2225.748000                160.998  348923.610077   \n",
      "\n",
      "            Global_intensity  Sub_metering_1  Sub_metering_2  Sub_metering_3  \\\n",
      "datetime                                                                       \n",
      "2006-12-16       5180.800003             0.0           546.0          4926.0   \n",
      "2006-12-17      14398.600012          2033.0          4187.0         13341.0   \n",
      "2006-12-18       9247.199997          1063.0          2621.0         14018.0   \n",
      "2006-12-19       7094.000005           839.0          7602.0          6197.0   \n",
      "2006-12-20       9313.000001             0.0          2648.0         14063.0   \n",
      "\n",
      "            sub_metering_4  \n",
      "datetime                    \n",
      "2006-12-16    14680.933325  \n",
      "2006-12-17    36946.666703  \n",
      "2006-12-18    19028.433311  \n",
      "2006-12-19    13131.900035  \n",
      "2006-12-20    20384.799997  \n"
     ]
    }
   ],
   "source": [
    "\n",
    "dataset = pd.read_csv('household_power_consumption.csv', header=0, infer_datetime_format=True, parse_dates=['datetime'], index_col=['datetime'])\n",
    "# resample data to daily\n",
    "daily_groups = dataset.resample('D')\n",
    "daily_data = daily_groups.sum()\n",
    "# summarize\n",
    "print(daily_data.shape)\n",
    "print(daily_data.head())\n",
    "# save\n",
    "daily_data.to_csv('household_power_consumption_days.csv')"
   ]
  },
  {
   "cell_type": "code",
   "execution_count": 206,
   "metadata": {},
   "outputs": [
    {
     "name": "stdout",
     "output_type": "stream",
     "text": [
      "(159, 7, 8)\n",
      "3390.46000189 1309.26800087\n",
      "(46, 7, 8)\n",
      "2083.45399883 2197.00599793\n"
     ]
    }
   ],
   "source": [
    "dataset = pd.read_csv('household_power_consumption_days.csv', header=0, infer_datetime_format=True, parse_dates=['datetime'], index_col=['datetime'])\n",
    "train, test = split_dataset(dataset.values)\n",
    "#validate train data\n",
    "print(train.shape)\n",
    "\n",
    "print(train[0, 0,0], train[-1, -1, 0])\n",
    "# validate test\n",
    "print(test.shape)\n",
    "print(test[0, 0, 0], test[-1, -1, 0])\n"
   ]
  },
  {
   "cell_type": "code",
   "execution_count": 207,
   "metadata": {
    "collapsed": true
   },
   "outputs": [],
   "source": [
    "def to_series(data):\n",
    "\t# extract just the total power from each week\n",
    "\tseries = [week[:, 0] for week in data]\n",
    "\t# flatten into a single series\n",
    "\tseries =np.array(series).flatten()\n",
    "\treturn series"
   ]
  },
  {
   "cell_type": "code",
   "execution_count": 208,
   "metadata": {
    "collapsed": true
   },
   "outputs": [],
   "source": [
    "def to_supervised(history, n_input):\n",
    "\t# convert history to a univariate series\n",
    "\tdata = to_series(history)\n",
    "\tX, y = list(), list()\n",
    "\tix_start = 0\n",
    "\t# step over the entire history one time step at a time\n",
    "\tfor i in range(len(data)):\n",
    "\t\t# define the end of the input sequence\n",
    "\t\tix_end = ix_start + n_input\n",
    "\t\t# ensure we have enough data for this instance\n",
    "\t\tif ix_end < len(data):\n",
    "\t\t\tX.append(data[ix_start:ix_end])\n",
    "\t\t\ty.append(data[ix_end])\n",
    "\t\t# move along one time step\n",
    "\t\tix_start += 1\n",
    "\treturn np.array(X), np.array(y)"
   ]
  },
  {
   "cell_type": "code",
   "execution_count": 209,
   "metadata": {
    "collapsed": true
   },
   "outputs": [],
   "source": [
    "def forecast(model, input_x, n_input):\n",
    "\tyhat_sequence = list()\n",
    "\tinput_data = [x for x in input_x]\n",
    "\tfor j in range(7):\n",
    "\t\t# prepare the input data\n",
    "\t\tX = np.array(input_data[-n_input:]).reshape(1, n_input)\n",
    "\t\t# make a one-step forecast\n",
    "\t\tyhat = model.predict(X)[0]\n",
    "\t\t# add to the result\n",
    "\t\tyhat_sequence.append(yhat)\n",
    "\t\t# add the prediction to the input\n",
    "\t\tinput_data.append(yhat)\n",
    "\treturn yhat_sequence\n"
   ]
  },
  {
   "cell_type": "code",
   "execution_count": 210,
   "metadata": {
    "collapsed": true
   },
   "outputs": [],
   "source": [
    "def evaluate_forecasts(actual, predicted):\n",
    "\tscores = list()\n",
    "\t# calculate an RMSE score for each day\n",
    "\tfor i in range(actual.shape[1]):\n",
    "\t\t# calculate mse\n",
    "\t\tmse = mean_squared_error(actual[:, i], predicted[:, i])\n",
    "\t\t# calculate rmse\n",
    "\t\trmse = sqrt(mse)\n",
    "\t\t# store\n",
    "\t\tscores.append(rmse)\n",
    "\t# calculate overall RMSE\n",
    "\ts = 0\n",
    "\tfor row in range(actual.shape[0]):\n",
    "\t\tfor col in range(actual.shape[1]):\n",
    "\t\t\ts += (actual[row, col] - predicted[row, col])**2\n",
    "\tscore = sqrt(s / (actual.shape[0] * actual.shape[1]))\n",
    "\treturn score, scores"
   ]
  },
  {
   "cell_type": "code",
   "execution_count": 211,
   "metadata": {
    "collapsed": true
   },
   "outputs": [],
   "source": [
    "def evaluate_model(model, train, test, n_input):\n",
    "\t# history is a list of weekly data\n",
    "\thistory = [x for x in train]\n",
    "\t# walk-forward validation over each week\n",
    "\tpredictions = list()\n",
    "\tfor i in range(len(test)):\n",
    "\t\t# predict the week\n",
    "\t\tyhat_sequence = sklearn_predict(model, history, n_input)\n",
    "\t\t# store the predictions\n",
    "\t\tpredictions.append(yhat_sequence)\n",
    "\t\t# get real observation and add to history for predicting the next week\n",
    "\t\thistory.append(test[i, :])\n",
    "\tpredictions = np.array(predictions)\n",
    "\t# evaluate predictions days for each week\n",
    "\tscore, scores = evaluate_forecasts(test[:, :, 0], predictions)\n",
    "\treturn score, scores"
   ]
  },
  {
   "cell_type": "code",
   "execution_count": 212,
   "metadata": {
    "collapsed": true
   },
   "outputs": [],
   "source": [
    "def sklearn_predict(model, history, n_input):\n",
    "\t# prepare data\n",
    "\ttrain_x, train_y = to_supervised(history, n_input)\n",
    "\t# make pipeline\n",
    "\tpipeline = make_pipeline(model)\n",
    "\t# fit the model\n",
    "\tpipeline.fit(train_x, train_y)\n",
    "\t# predict the week, recursively\n",
    "\tyhat_sequence = forecast(pipeline, train_x[-1, :], n_input)\n",
    "\treturn yhat_sequence"
   ]
  },
  {
   "cell_type": "code",
   "execution_count": 213,
   "metadata": {
    "collapsed": true
   },
   "outputs": [],
   "source": [
    "def make_pipeline(model):\n",
    "\tsteps = list()\n",
    "\t# standardization\n",
    "\tsteps.append(('standardize', StandardScaler()))\n",
    "\t# normalization\n",
    "\tsteps.append(('normalize', MinMaxScaler()))\n",
    "\t# the model\n",
    "\tsteps.append(('model', model))\n",
    "\t# create pipeline\n",
    "\tpipeline = Pipeline(steps=steps)\n",
    "\treturn pipeline"
   ]
  },
  {
   "cell_type": "code",
   "execution_count": 214,
   "metadata": {
    "collapsed": true
   },
   "outputs": [],
   "source": [
    "def summarize_scores(name, score, scores):\n",
    "\ts_scores = ', '.join(['%.1f' % s for s in scores])\n",
    "\tprint('%s: [%.3f] %s' % (name, score, s_scores))"
   ]
  },
  {
   "cell_type": "code",
   "execution_count": 217,
   "metadata": {},
   "outputs": [
    {
     "name": "stdout",
     "output_type": "stream",
     "text": [
      "lr: [388.388] 411.0, 389.1, 338.0, 370.8, 408.5, 308.3, 471.1\n"
     ]
    },
    {
     "data": {
      "image/png": "[encoded data removed]",
      "text/plain": [
       "<matplotlib.figure.Figure at 0x1a3e946828>"
      ]
     },
     "metadata": {},
     "output_type": "display_data"
    }
   ],
   "source": [
    "from sklearn.linear_model import LinearRegression\n",
    "from sklearn.preprocessing import StandardScaler\n",
    "from sklearn.preprocessing import MinMaxScaler\n",
    "from sklearn.pipeline import Pipeline\n",
    "from sklearn.metrics import mean_squared_error\n",
    "from math import sqrt\n",
    "from matplotlib import pyplot\n",
    "\n",
    "days = ['sun', 'mon', 'tue', 'wed', 'thr', 'fri', 'sat']\n",
    "\n",
    "score, scores = evaluate_model(LinearRegression(), train, test, 7)\n",
    "# summarize scores\n",
    "summarize_scores(\"lr\", score, scores)\n",
    "# plot scores\n",
    "pyplot.plot(days, scores, marker='o', label=\"linear\")\n",
    "pyplot.show()\n"
   ]
  },
  {
   "cell_type": "code",
   "execution_count": null,
   "metadata": {
    "collapsed": true
   },
   "outputs": [],
   "source": []
  },
  {
   "cell_type": "code",
   "execution_count": null,
   "metadata": {
    "collapsed": true
   },
   "outputs": [],
   "source": []
  },
  {
   "cell_type": "code",
   "execution_count": null,
   "metadata": {
    "collapsed": true
   },
   "outputs": [],
   "source": []
  }
 ],
 "metadata": {
  "kernelspec": {
   "display_name": "Python 3",
   "language": "python",
   "name": "python3"
  },
  "language_info": {
   "codemirror_mode": {
    "name": "ipython",
    "version": 3
   },
   "file_extension": ".py",
   "mimetype": "text/x-python",
   "name": "python",
   "nbconvert_exporter": "python",
   "pygments_lexer": "ipython3",
   "version": "3.6.3"
  }
 },
 "nbformat": 4,
 "nbformat_minor": 2
}
